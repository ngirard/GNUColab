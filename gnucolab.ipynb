{
  "nbformat": 4,
  "nbformat_minor": 0,
  "metadata": {
    "colab": {
      "name": "gnucolab.ipynb",
      "provenance": [],
      "private_outputs": true,
      "collapsed_sections": [
        "v-Y-4zmUxuBi",
        "W94gJ40Sasga",
        "zdywoBEnlEBO",
        "LlcMNo1P5_GJ",
        "UmZCvdSP5AJh",
        "Clx1yanR3TWo",
        "hHtNWmkY3q49",
        "vdhqnerltT-l",
        "Q92DHyVfhy51"
      ]
    },
    "kernelspec": {
      "name": "python3",
      "display_name": "Python 3"
    },
    "accelerator": "GPU"
  },
  "cells": [
    {
      "cell_type": "markdown",
      "metadata": {
        "id": "Fy2y35RB15Bh"
      },
      "source": [
        "# **GNU Colab**\n",
        "\n",
        "*In here we set an environment in which you can persistently run desktop programs.*\n",
        "\n",
        "This notebook lets you **run desktop programs on colab machines** drawn on your local terminal through VNC.\n",
        "\n",
        "At this moment, the notebook is preconfigured to run either **MATE** or **XFCE**. \n",
        "\n",
        "Other options can of course be added.\n",
        "\n",
        "**Best run**: TBD\n"
      ]
    },
    {
      "cell_type": "markdown",
      "metadata": {
        "id": "v-Y-4zmUxuBi"
      },
      "source": [
        "## User management\n",
        "\n",
        "*In here an user `user` is set up.*\n",
        "\n",
        "Set up a familiar work environment.\n",
        "\n",
        "**Best run**: 12 seconds\n",
        "\n",
        "**Worst run**: 35 seconds"
      ]
    },
    {
      "cell_type": "code",
      "metadata": {
        "id": "JhuGikNPl0Zm",
        "cellView": "form"
      },
      "source": [
        "#@title New **user** (default: `user`) { vertical-output: true }\n",
        "#@markdown Concise. It also enables cron` service.\n",
        "user = \"user\" #@param {type:\"string\"}\n",
        "password = \"testone\" #@param {type:\"string\"}\n",
        "run = True #@param {type:\"boolean\"}\n",
        "root = True #@param {type:\"boolean\"}\n",
        "\n",
        "\n",
        "from os import environ\n",
        "\n",
        "def create_user(user=user, password=password, root=root):\n",
        "  environ['user'] = user\n",
        "  environ['password'] = password\n",
        "  !useradd $user > /dev/null 2>&1\n",
        "  !echo -e \"$password\\n$password\" | passwd root\n",
        "  !mkdir /home/$user > /dev/null 2>&1\n",
        "  !chown -R $user:$user /home/$user\n",
        "  !touch /var/log/pip.log\n",
        "  !chown user:user /var/log/pip.log\n",
        "\n",
        "  if root:\n",
        "    !echo -e \"$password\\n$password\" | passwd root\n",
        "  #!python3 -m pip uninstall -y google-colab\n",
        "\n",
        "if run:\n",
        "  create_user()\n",
        "\n",
        "  !apt install cron > /dev/null 2>&1\n",
        "  !service cron restart"
      ],
      "execution_count": null,
      "outputs": []
    },
    {
      "cell_type": "code",
      "metadata": {
        "id": "Xmz4gbGFJzyl",
        "cellView": "form"
      },
      "source": [
        "#@title Install **Oh my zsh!**\n",
        "#@markdown You don't want to get lost.\n",
        "user = \"user\" #@param {type:\"string\"}\n",
        "root = True #@param {type:\"boolean\"}\n",
        "\n",
        "from os import environ\n",
        "\n",
        "environ['user'] = user\n",
        "\n",
        "!apt --quiet install zsh nyancat nyancat-server > /dev/null 2>&1\n",
        " \n",
        "!runuser -l $user -c \"$(curl -fsSL https://raw.githubusercontent.com/ohmyzsh/ohmyzsh/master/tools/install.sh) --unattended\" > /dev/null 2>&1\n",
        "\n",
        "!usermod --shell /usr/bin/zsh $user\n",
        "if root:\n",
        "  !sh -c \"$(curl -fsSL https://raw.githubusercontent.com/ohmyzsh/ohmyzsh/master/tools/install.sh) --unattended\" > /dev/null 2>&1\n",
        "  !usermod --shell /usr/bin/zsh root"
      ],
      "execution_count": null,
      "outputs": []
    },
    {
      "cell_type": "code",
      "metadata": {
        "id": "RkxCfyCGCMSb",
        "cellView": "form"
      },
      "source": [
        "#@title Install a reasonable **text editor** { vertical-output: true }\n",
        "#@markdown Kidding.\n",
        "editor = \"vim\" #@param {type:\"string\"}\n",
        "from os import environ\n",
        "\n",
        "environ['editor'] = editor\n",
        "!apt --quiet install -y $editor > /dev/null 2>&1"
      ],
      "execution_count": null,
      "outputs": []
    },
    {
      "cell_type": "code",
      "metadata": {
        "id": "Uo2zanjaf8qJ",
        "cellView": "form"
      },
      "source": [
        "#@title Install a **window manager**\n",
        "#@markdown I mean `screen`.\n",
        "\n",
        "!apt install screen > /dev/null 2>&1"
      ],
      "execution_count": null,
      "outputs": []
    },
    {
      "cell_type": "code",
      "metadata": {
        "id": "4FQqb20W5Wt4",
        "cellView": "form"
      },
      "source": [
        "#@title Install Monitoring { vertical-output: true, form-width: \"50px\" }\n",
        "#@markdown I/O and cron logging.\n",
        "\n",
        "# I/O\n",
        "!apt install sysstat > /dev/null 2>&1\n",
        "\n",
        "# Install rsyslog\n",
        "!apt install rsyslog > /dev/null 2>&1\n",
        "# Enable cron logging\n",
        "!sed -i '/cron\\./s/^#//g' /etc/rsyslog.d/50-default.conf\n",
        "# Restart services\n",
        "!service cron restart\n",
        "!service rsyslog restart "
      ],
      "execution_count": null,
      "outputs": []
    },
    {
      "cell_type": "markdown",
      "metadata": {
        "id": "3p0BY-fskGeT"
      },
      "source": [
        "### Debug\n",
        "Have fun!"
      ]
    },
    {
      "cell_type": "code",
      "metadata": {
        "id": "IEci1BuIKE21",
        "cellView": "form"
      },
      "source": [
        "#@title Start a shell\n",
        "#@markdown Why not?\n",
        "user = \"user\" #@param [\"user\", \"root\"] {allow-input: true}\n",
        "shell = \"zsh\" #@param {type:\"string\"}\n",
        "start = False #@param {type:\"boolean\"}\n",
        "\n",
        "def start_shell(user=user, shell=shell):\n",
        "  from os import environ\n",
        "  environ['user'] = user\n",
        "  environ['shell'] = shell\n",
        "\n",
        "  if user == \"root\":\n",
        "    !$shell\n",
        "  if shell == \"zsh\":\n",
        "    !su - $user\n",
        "  \n",
        "if start:\n",
        "  start_shell()"
      ],
      "execution_count": null,
      "outputs": []
    },
    {
      "cell_type": "code",
      "metadata": {
        "id": "ovL6UTHPBOX2",
        "cellView": "form"
      },
      "source": [
        "#@title Install package\n",
        "#@markdown Install the package listed below\n",
        "package = \"pgpgram\" #@param {type:\"string\"}\n",
        "method = \"apt\" #@param [\"apt\", \"pip\", \"\"]\n",
        "run = False #@param {type:\"boolean\"}\n",
        "from os import environ\n",
        "\n",
        "if run:\n",
        "  if method == \"apt\":\n",
        "    !apt --quiet update\n",
        "    environ['package'] = package \n",
        "    !apt --quiet install $package\n",
        "  if method == \"pip\":\n",
        "    !runuser -l $user -c \"python3 -m pip install --user $package\""
      ],
      "execution_count": null,
      "outputs": []
    },
    {
      "cell_type": "markdown",
      "metadata": {
        "id": "W94gJ40Sasga"
      },
      "source": [
        "## Google drive integration\n",
        "\n",
        "*In here we mount your drive in `user` home.*\n",
        "\n",
        "**Manual intervention required**: When this will be optional you won't have to open this section to insert a code."
      ]
    },
    {
      "cell_type": "code",
      "metadata": {
        "cellView": "form",
        "id": "DrS4aJkOFXqa"
      },
      "source": [
        "#@title Google Drive Integration { vertical-output: true }\n",
        "#@markdown Check sign-in this cell to sign-in as `user`.\n",
        "#@markdown In here a shortcut to your google drive is inserted inside  `user` home. It is read-only for `user`.\n",
        "user = \"user\" #@param {type:\"string\"}\n",
        "run = True #@param {type:\"boolean\"}\n",
        "debug = False #@param {type:\"boolean\"}\n",
        "mountpoint = \"/content/drive\"\n",
        "\n",
        "from os import getuid, getgid, setuid, setgid\n",
        "from os import environ as env\n",
        "from os.path import join as path_join\n",
        "from os import listdir as ls\n",
        "\n",
        "\n",
        "env['user'] = user\n",
        "env['user_home'] = \"/home/{}\".format(user)\n",
        "env['drive_mount_bin'] = path_join(env['user_home'], 'drive_mount.sh')\n",
        "\n",
        "def drive_mount():\n",
        "  !runuser -l $user -c \"yes | python3 -m pip install --user google-colab\"  > /dev/null 2>&1\n",
        "\n",
        "  def mount(user=user, debug=debug):\n",
        "    !cp -r /root/.config/Google /home/$user/.config/Google > /dev/null 2>&1\n",
        "    !mkdir -p /home/$user/.config/Google/DriveFS/Logs\n",
        "    !chown -R $user:$user /home/user/.config/Google/DriveFS/Logs\n",
        "    !mkdir -p /content/drive > /dev/null 2>&1\n",
        "    !chown -R $user:$user /content/.config\n",
        "    !chown -R $user:user /content > /dev/null 2>&1\n",
        "  mount()\n",
        "\n",
        "  mount = \"\"\"\n",
        "#!/bin/sh\n",
        "\n",
        "from os import environ as env\n",
        "from os.path import join as path_join\n",
        "from google.colab import drive\n",
        "\n",
        "env['CLOUDSDK_CONFIG']  = '/content/.config'\n",
        "\n",
        "def drive_mount(mountpoint=path_join('/content', 'drive'), user=\"{}\"):\n",
        "  try:\n",
        "    drive.mount(mountpoint)\n",
        "  except Exception as e:\n",
        "    raise e\n",
        "\n",
        "if __name__ == \"__main__\":\n",
        "  drive_mount()\n",
        "\"\"\".format(user, user, env['user_home'])\n",
        "\n",
        "  with open(path_join(env['user_home'], \"drive_mount.sh\"), \"w\") as f:\n",
        "    f.write(mount)\n",
        "\n",
        "  if debug:\n",
        "    !stat $user_home\n",
        "  \n",
        "  !chown -R  $user $user_home\n",
        "  !chmod u+x $drive_mount_bin\n",
        "\n",
        " # !runuser -l $user -c \"mkdir /home/$user/drive\" > /dev/null 2>&1\n",
        "  !runuser -l $user -c \"python3 /home/$user/drive_mount.sh\"\n",
        "\n",
        "  !ln -s /content/drive/My\\ Drive $user_home/drive > /dev/null 2>&1\n",
        "  !chown $user:$user $user_home/drive > /dev/null 2>&1\n",
        "\n",
        "if run:\n",
        "  drive_mount()"
      ],
      "execution_count": null,
      "outputs": []
    },
    {
      "cell_type": "markdown",
      "metadata": {
        "id": "zdywoBEnlEBO"
      },
      "source": [
        "### Debug\n",
        "You won't have fun in here."
      ]
    },
    {
      "cell_type": "code",
      "metadata": {
        "cellView": "form",
        "id": "6YKBwJuik6HB"
      },
      "source": [
        "#@title As administrator\n",
        "#@markdown Check sign-in this cell to sign-in.\n",
        "mountpoint = \"/content/drive\" #@param {type:\"string\"}\n",
        "signin = False #@param {type:\"boolean\"}\n",
        "define = False #@param {type:\"boolean\"}\n",
        "\n",
        "if define:\n",
        "  def drive_mount(mountpoint='/content/drive'):\n",
        "    from os.path import join\n",
        "    from google.colab import drive\n",
        "    drive_root_directory = join(mountpoint, \"My Drive\")\n",
        "    try:\n",
        "      drive.mount(mountpoint)\n",
        "    except Exception as e:\n",
        "      raise e\n",
        "  \n",
        "if signin:\n",
        "  drive_mount()"
      ],
      "execution_count": null,
      "outputs": []
    },
    {
      "cell_type": "code",
      "metadata": {
        "cellView": "form",
        "id": "yQLsab8PmLCc"
      },
      "source": [
        "#@title As user (WIP) branch 1\n",
        "#@markdown Check sign-in this cell to sign-in.\n",
        "user = \"user\" #@param {type:\"string\"}\n",
        "run = False #@param {type:\"boolean\"}\n",
        "mountpoint = \"/content/drive\"\n",
        "\n",
        "from os import getuid, getgid, setuid, setgid\n",
        "from os import environ as env\n",
        "from os.path import join\n",
        "from os import listdir as ls\n",
        "\n",
        "env['user'] = user\n",
        "env['user_home'] = \"/home/{}\".format(user)\n",
        "\n",
        "#class UnixUser(object):\n",
        "\n",
        "#    def __init__(self, uid, gid=None):\n",
        "#        self.uid = uid\n",
        "#        self.gid = gid\n",
        "\n",
        "#    def __enter__(self):\n",
        "#        self.cache = getuid(), getgid()  # cache the current UID and GID\n",
        "#        if self.gid is not None:  # GID change requested as well\n",
        "#            setgid(self.gid)\n",
        "#        setuid(self.uid)  # set the UID for the code within the `with` block#\n",
        "\n",
        "#    def __exit__(self, exc_type, exc_val, exc_tb):\n",
        "#        # optionally, deal with the exception\n",
        "#        print(self.cache)\n",
        "#        setuid(self.cache[0])  # revert back to the original UID\n",
        "#        setgid(self.cache[1])  # revert back to the original GID\n",
        "\n",
        "#def as_unix_user(uid, gid=None):  # optional group\n",
        "#    def wrapper(func):\n",
        "#        def wrapped(*args, **kwargs):\n",
        "#            with UnixUser(uid, gid):\n",
        "#                return func(*args, **kwargs)  # execute the function\n",
        "#        return wrapped\n",
        "#    return wrapper\n",
        "\n",
        "#\"\"\"\n",
        "#@as_unix_user(1000)\n",
        "#def drive_mount(mountpoint='/content/drive', user=user):\n",
        "#  from google.colab import drive\n",
        "#  print(drive._env)\n",
        "#  drive_root_directory = join(env['user_home'], \"drive\")\n",
        "#  home_content = ls(env['user_home'])\n",
        "#\"\"\"\n",
        "\n",
        "  #try:\n",
        "  #  drive.mount(mountpoint)\n",
        "  #except Exception as e:\n",
        "  #  raise e\n",
        "  #try:\n",
        "  #  print(home_content)\n",
        "  #  assert \"drive\" in home_content\n",
        "  #except AssertionError as e:\n",
        "  #  !ln -s /content/drive/My\\ Drive $user_home/drive\n",
        "  #  !chown $user:$user $user_home/drive\n",
        "  #  print(e)\n",
        "  #  drive_content = ls(drive_root_directory)\n",
        "  #  raise\n",
        "  #  #print(e.message)\n",
        "\n",
        "#drive_mount()"
      ],
      "execution_count": null,
      "outputs": []
    },
    {
      "cell_type": "markdown",
      "metadata": {
        "id": "LlcMNo1P5_GJ"
      },
      "source": [
        "## Connection\n",
        "*In here we open the machine of this notebook to remote connections.*\n",
        "\n",
        "**Manual intervention required**: On first run, to configure the tunnel.\n",
        "\n",
        "Available connection methods are:\n",
        "- SSH reverse tunnel; \n",
        "- Tor.\n",
        "\n",
        "**Worst case**: 30 seconds"
      ]
    },
    {
      "cell_type": "markdown",
      "metadata": {
        "id": "LIqjAbHCLTx7"
      },
      "source": [
        "### Routines\n",
        "\n",
        "In here there are functions needed to set up connection"
      ]
    },
    {
      "cell_type": "code",
      "metadata": {
        "id": "ywwc5_m7vcGn",
        "cellView": "form"
      },
      "source": [
        "#@title Install and configure packages { vertical-output: true }\n",
        "#@markdown We install `openssh-server`, `autossh`, `tor` and `nmap`\n",
        "run = True #@param {type:\"boolean\"}\n",
        " \n",
        "def install_ssh(run=True):\n",
        "  !apt --quiet install -y openssh-server autossh tor nmap > /dev/null 2>&1\n",
        "\n",
        "  ssh_config = \"\"\"\n",
        "Host *\n",
        "    ForwardX11 yes\n",
        "    ForwardX11Trusted yes\n",
        "    PasswordAuthentication no\n",
        "    Tunnel yes\n",
        "    SendEnv LANG LC_*\n",
        "    HashKnownHosts yes\n",
        "    GSSAPIAuthentication yes\n",
        "\"\"\"\n",
        "\n",
        "  sshd_config = \"\"\"\n",
        "ChallengeResponseAuthentication no\n",
        "UsePAM yes\n",
        "X11Forwarding yes\n",
        "PrintMotd no\n",
        "AcceptEnv LANG LC_*\n",
        "Subsystem\tsftp\t/usr/lib/openssh/sftp-server\n",
        "\"\"\"\n",
        "  with open(\"/etc/ssh/ssh_config\", \"w\") as f:\n",
        "    f.write(ssh_config)\n",
        "  with open(\"/etc/ssh/sshd_config\", \"w\") as f:\n",
        "    f.write(sshd_config)\n",
        "\n",
        "  #TODO\n",
        "  # Create a preconfigured bare torrc file in here\n",
        "\n",
        "  if run:\n",
        "    !service ssh start > /dev/null 2>&1\n",
        "    !service tor start  > /dev/null 2>&1"
      ],
      "execution_count": null,
      "outputs": []
    },
    {
      "cell_type": "code",
      "metadata": {
        "id": "xgSj-rwqjoyM",
        "cellView": "form"
      },
      "source": [
        "#@title Show onion SSH hostname { vertical-output: true }\n",
        "run = False #@param {type:\"boolean\"}\n",
        "\n",
        "def get_tor_ssh_hostname():\n",
        "  with open('/var/lib/tor/ssh/hostname', 'r') as f:\n",
        "    return f.read()  \n",
        "\n",
        "if run:\n",
        "  print(get_tor_ssh_hostname())"
      ],
      "execution_count": null,
      "outputs": []
    },
    {
      "cell_type": "code",
      "metadata": {
        "id": "pnpWmGSiU1C6",
        "cellView": "form"
      },
      "source": [
        "#@title Init SSH directory { vertical-output: true }\n",
        "#@markdown Create SSH directory for user `user` and `root`\n",
        "user = \"user\" #@param {type:\"string\"}\n",
        "root = True #@param {type:\"boolean\"}\n",
        "\n",
        "def new_ssh_dirs(user=user, root=root):\n",
        "  from os import environ\n",
        "  environ['user'] = user\n",
        "  environ['ssh_dir'] = \"/home/{}/.ssh\".format(user)\n",
        "  !mkdir -p /home/$user/.ssh > /dev/null 2>&1\n",
        "  !chmod 700 /home/$user/.ssh\n",
        "  !chown user:user /home/$user/.ssh\n",
        "  \n",
        "  config = \"\"\"# Onion support\n",
        "Host *.onion\n",
        "      proxyCommand ncat --proxy 127.0.0.1:9050 --proxy-type socks5 %h %p\n",
        "\n",
        "Host google_shell\n",
        "      Hostname localhost\n",
        "      Port 6666\n",
        "      User user\n",
        "\"\"\".format(domain, port, remote_user)\n",
        "\n",
        "  with open(\"/home/{}/.ssh/config\".format(user), \"w\") as f:\n",
        "    f.write(config)\n",
        "  !chown -R user:user $ssh_dir\n",
        "\n",
        "  if root:\n",
        "    !mkdir -p /root/.ssh > /dev/null 2>&1\n",
        "    !chmod 700 /root/.ssh"
      ],
      "execution_count": null,
      "outputs": []
    },
    {
      "cell_type": "code",
      "metadata": {
        "id": "U3a3kw05l72g",
        "cellView": "form"
      },
      "source": [
        "#@title New SSH key pair\n",
        "#@markdown If it's your first run you could need to generate keys\n",
        "user = \"user\" #@param [\"user\"]\n",
        "\n",
        "def new_pair(user=user):\n",
        "  from os import environ\n",
        "  environ['user'] = user\n",
        "  !runuser -l $user -c 'ssh-keygen'\n",
        "\n",
        "\n",
        "#@markdown #### **Show fingerprint**\n",
        "#@markdown RSA public key of user `user`\n",
        "user = \"user\" #@param {type:\"string\"}\n",
        "\n",
        "def show_fingerprint(user=user):\n",
        "  from os import environ\n",
        "  environ['user'] = user\n",
        "  print(\"{} ssh public key:\".format(user))\n",
        "  !cat /home/$user/.ssh/id_rsa.pub"
      ],
      "execution_count": null,
      "outputs": []
    },
    {
      "cell_type": "markdown",
      "metadata": {
        "id": "A-tg5HjV8224"
      },
      "source": [
        "#### Existing configuration\n",
        "If it's not your first run you want to retrieve your already existing ssh key pairs, to retrieve from a secure location.\n",
        "We currently have code for:\n",
        "- Google drive.\n",
        "\n",
        "You need to have (in the root of your google drive)  \n",
        "- `/etc/ssh/` properly configured as in a normal ssh server;\n",
        "- `/etc/tor/` properly containeing a `torrc` with ssh hidden service enabled;\n",
        "- `/.ssh/` containing a key called `google` and a `config` file contaning an host called `google` to use as a reverse proxy;\n",
        "- `/var/lib/tor/ssh/`"
      ]
    },
    {
      "cell_type": "markdown",
      "metadata": {
        "id": "UmZCvdSP5AJh"
      },
      "source": [
        "##### Open from Google **drive**"
      ]
    },
    {
      "cell_type": "markdown",
      "metadata": {
        "id": "Clx1yanR3TWo"
      },
      "source": [
        "###### Routines"
      ]
    },
    {
      "cell_type": "code",
      "metadata": {
        "cellView": "form",
        "id": "PMr0ZIAJ47G3"
      },
      "source": [
        "#@title Mount\n",
        "#@markdown Check sign-in this cell to sign-in as `user`.\n",
        "user = \"user\" #@param {type:\"string\"}\n",
        "run = False #@param {type:\"boolean\"}\n",
        "debug = False #@param {type:\"boolean\"}\n",
        "mountpoint = \"/content/drive\"\n",
        "\n",
        "from os import getuid, getgid, setuid, setgid\n",
        "from os import environ as env\n",
        "from os.path import join as path_join\n",
        "from os import listdir as ls\n",
        "\n",
        "\n",
        "env['user'] = user\n",
        "env['user_home'] = \"/home/{}\".format(user)\n",
        "env['drive_mount_bin'] = path_join(env['user_home'], 'drive_mount.sh')\n",
        "\n",
        "def drive_mount():\n",
        "  !runuser -l $user -c \"yes | python3 -m pip install --user google-colab\"  > /dev/null 2>&1\n",
        "\n",
        "  def mount(user=user, debug=debug):\n",
        "    !cp -r /root/.config/Google /home/$user/.config/Google\n",
        "    !mkdir -p /home/$user/.config/Google/DriveFS/Logs\n",
        "    !chown -R $user:$user /content/.config\n",
        "    !chown -R $user:$user /home/user/.config/Google/DriveFS/Logs\n",
        "\n",
        "  mount()\n",
        "\n",
        "  mount = \"\"\"\n",
        "#!/bin/sh\n",
        "\n",
        "from os import environ as env\n",
        "from os.path import join as path_join\n",
        "from google.colab import drive\n",
        "\n",
        "env['CLOUDSDK_CONFIG']  = '/content/.config'\n",
        "\n",
        "def drive_mount(mountpoint=path_join('/home/{}', 'drive'), user=\"{}\"):\n",
        "  print(drive._env)\n",
        "  print(drive._os.environ['HOME'])\n",
        "  #print(drive._os.environ['CLOUDSDK_CONFIG'])\n",
        "  #  drive_root_directory = path_join({}, \"drive\")\n",
        "  #  home_content = ls(env['user_home'])\n",
        "  try:\n",
        "    drive.mount(mountpoint)\n",
        "  except Exception as e:\n",
        "    raise e\n",
        "\n",
        "if __name__ == \"__main__\":\n",
        "  drive_mount()\n",
        "\"\"\".format(user, user, env['user_home'])\n",
        "\n",
        "  with open(path_join(env['user_home'], \"drive_mount.sh\"), \"w\") as f:\n",
        "    f.write(mount)\n",
        "\n",
        "  if debug:\n",
        "    !stat $user_home\n",
        "  \n",
        "  !chown -R  $user $user_home\n",
        "  !chmod u+x $drive_mount_bin\n",
        "\n",
        "  !runuser -l $user -c \"mkdir /home/$user/drive\" > /dev/null 2>&1\n",
        "  !runuser -l $user -c \"python3 /home/$user/drive_mount.sh\"\n",
        "\n",
        "if run:\n",
        "  drive_mount()\n",
        "  !echo $CLOUDSDK_CONFIG"
      ],
      "execution_count": null,
      "outputs": []
    },
    {
      "cell_type": "code",
      "metadata": {
        "id": "oQuANB4XxHhT",
        "cellView": "form"
      },
      "source": [
        "#@title Copy from or to root\n",
        "user = \"user\" #@param {type:\"string\"}\n",
        "source = \"/home/user/drive/.ssh\" #@param {type:\"string\"}\n",
        "destination = \"/home/user/\" #@param {type:\"string\"}\n",
        "run = False #@param {type:\"boolean\"}\n",
        "\n",
        "from os import environ\n",
        "\n",
        "!rm -rf /home/user/.ssh\n",
        "\n",
        "def drive_copy(source=source, dest=destination):\n",
        "  from os.path import join as path_join\n",
        "  environ['source'] = source\n",
        "  environ['dest'] = dest\n",
        "  environ['user'] = user\n",
        "  environ['temp'] = path_join(\"/home/{}\".format(user), \".tmp\", source)\n",
        "\n",
        "  #!rm -r /home/$user/.tmp\n",
        "  #!runuser -l $user -c \"mkdir -p $temp\"\n",
        "  #!ls /home/$user/.tmp\n",
        " # !rm -r /tmp$dest\n",
        "  #!runuser -l $user -c \"mkdir  -p $tmp$source\"\n",
        "  !runuser -l $user -c \"cp -a $source $temp\"\n",
        "  \n",
        "  !cp -rv $temp $dest\n",
        "\n",
        "if run:\n",
        "  drive_copy()\n",
        "  !ls /home/user/.ssh"
      ],
      "execution_count": null,
      "outputs": []
    },
    {
      "cell_type": "code",
      "metadata": {
        "id": "zyYtXAGdPRpV",
        "cellView": "form"
      },
      "source": [
        "#@title Import\n",
        "#@markdown We import:\n",
        "\n",
        "\n",
        "key = \"google\" #@param [\"id_rsa\", \"google\"] {allow-input: true}\n",
        "root = True #@param {type:\"boolean\"}\n",
        "user = \"user\" #@param {type:\"string\"}\n",
        "\n",
        "def drive_download(key=key, user=user, root=root):\n",
        "  from os import environ\n",
        "  environ['key'] = key\n",
        "  environ['user'] = user\n",
        "  #@markdown - SSH daemon configuration;\n",
        "\n",
        "  #@markdown - user configuration;\n",
        "  !runuser -l $user -c \"mkdir -p /home/$user/.tmp\"\n",
        "  \n",
        "  !runuser -l $user -c \"cp -r /home/$user/drive/.ssh /home/$user\"\n",
        "\n",
        "  !runuser -l $user -c \"cp -r '/home/$user/drive/etc' '/home/$user/.tmp'\"\n",
        "  !cp -r /home/$user/.tmp/etc /\n",
        "\n",
        "  !mv /home/$user/.ssh/$key /home/$user/.ssh/id_rsa\n",
        "  !mv /home/$user/.ssh/$key.pub /home/$user/.ssh/id_rsa.pub\n",
        "  !cp /home/$user/.ssh/id_rsa.pub /home/$user/.ssh/authorized_keys\n",
        "\n",
        "  #@markdown - root user configuration;\n",
        "  !cp /home/$user/.ssh/id_rsa.pub /root/.ssh/authorized_keys\n",
        "\n",
        "  # Set permissions\n",
        "  !chmod 700 /home/$user/.ssh\n",
        "  !chmod 600 /home/$user/.ssh/id_rsa /home/$user/.ssh/id_rsa.pub\n",
        "  !chmod 755 /home/$user/.ssh/authorized_keys\n",
        "\n",
        "  !chown -R $user:$user /home/$user\n",
        "\n",
        "  #@markdown - tor configuration\n",
        "\n",
        "  !runuser -l $user -c \"cp -r '/home/$user/drive/var' '/home/$user/.tmp'\"\n",
        "  !cp -r /home/$user/.tmp/var /\n",
        "  !chown -R debian-tor:debian-tor /var/lib/tor\n",
        "\n",
        "  #  !!runuser -l $user -c \"cp -r '/home/$user/drive/var/' '/home/$user/.tmp/var'\"\n",
        "  #!cp -r /home/$user/.tmp/var /var\n",
        "  #!cp -r /content/drive/My\\ Drive/etc/tor /etc/tor\n",
        "  #!cp -r /content/drive/My\\ Drive/var/lib/tor/ssh /var/lib/tor/\n",
        "\n",
        "  # Restart services\n",
        "  !service ssh restart > /dev/null 2>&1\n",
        "  !service tor restart > /dev/null 2>&1"
      ],
      "execution_count": null,
      "outputs": []
    },
    {
      "cell_type": "code",
      "metadata": {
        "id": "OPWsifdxb1hz",
        "cellView": "form"
      },
      "source": [
        "#@title Export\n",
        "#@markdown - SSH daemon configuration;\n",
        "#@markdown - Tor configuration and onion address private key;\n",
        "#@markdown - user configuration.\n",
        "root = True #@param {type:\"boolean\"}\n",
        "user = \"user\" #@param {type:\"string\"}\n",
        "\n",
        "def drive_upload(user=user, root=root):\n",
        "  from os import environ\n",
        "  environ['user'] = user\n",
        "  # System-wide SSH config files\n",
        "  !mkdir -p /content/drive/My\\ Drive/etc/ssh\n",
        "  !cp /etc/ssh/sshd_config /content/drive/My\\ Drive/etc/ssh/sshd_config\n",
        "  !cp /etc/ssh/ssh_config /content/drive/My\\ Drive/etc/ssh/ssh_config\n",
        "\n",
        "  # SSH user directory\n",
        "  !cp -r /home/$user/.ssh \"/content/drive/My Drive\"\n",
        "\n",
        "  # Tor configuration and private keys\n",
        "  !mkdir -p /content/drive/My\\ Drive/var/lib/tor\n",
        "  !mkdir -p /content/drive/My\\ Drive/etc/tor\n",
        "  !cp -r /var/lib/tor/ssh /content/drive/My\\ Drive/var/lib/tor/ssh\n",
        "  !cp -r /etc/tor/torrc /content/drive/My\\ Drive/etc/tor"
      ],
      "execution_count": null,
      "outputs": []
    },
    {
      "cell_type": "markdown",
      "metadata": {
        "id": "hHtNWmkY3q49"
      },
      "source": [
        "##### Run"
      ]
    },
    {
      "cell_type": "code",
      "metadata": {
        "id": "dPNAqHjWPI-l",
        "cellView": "form"
      },
      "source": [
        "#@title ### **Migration tool**\n",
        "#@markdown  \n",
        "mountpoint = \"/content/drive\" #@param {type:\"string\"}\n",
        "action = \"Import\" #@param [\"Import\", \"Export\", \"Just mount\"]\n",
        "run = False #@param {type:\"boolean\"}\n",
        "\n",
        "\n",
        "def migration_tool(mountpoint=mountpoint, action=action, debug=run):\n",
        "  from os.path import join as path_join\n",
        "\n",
        "#  def drive_mount(mountpoint='/content/drive'):\n",
        "#    from google.colab import drive\n",
        "#    drive_root_directory = path_join(mountpoint, \"My Drive\")\n",
        "#    try:\n",
        "#      drive.mount(mountpoint)\n",
        "#    except Exception as e:\n",
        "#      raise e\n",
        "    \n",
        "  #drive_mount()\n",
        "\n",
        "  if action == \"Import\":\n",
        "    drive_download()\n",
        "  if action == \"Export\":\n",
        "    drive_upload()\n",
        "\n",
        "  if debug:\n",
        "    show_fingerprint()\n",
        "    print(\"ssh onion address:\")\n",
        "    !cat /var/lib/tor/ssh/hostname\n",
        "\n",
        "  with open('/var/lib/tor/ssh/hostname', 'r') as f:\n",
        "    return f.read()\n",
        "\n",
        "if run:\n",
        "  migration_tool()"
      ],
      "execution_count": null,
      "outputs": []
    },
    {
      "cell_type": "markdown",
      "metadata": {
        "id": "vdhqnerltT-l"
      },
      "source": [
        "##### Debug"
      ]
    },
    {
      "cell_type": "code",
      "metadata": {
        "id": "vIwKuvWUIWD8",
        "cellView": "form"
      },
      "source": [
        "#@title Mount (as administrator)\n",
        "#@markdown Check sign-in this cell to sign-in.\n",
        "mountpoint = \"/content/drive\" #@param {type:\"string\"}\n",
        "run = False #@param {type:\"boolean\"}\n",
        "\n",
        "def drive_mount(mountpoint='/content/drive'):\n",
        "  from os.path import join\n",
        "  from google.colab import drive\n",
        "  drive_root_directory = join(mountpoint, \"My Drive\")\n",
        "  try:\n",
        "    drive.mount(mountpoint)\n",
        "  except Exception as e:\n",
        "    raise e\n",
        "  \n",
        "if run:\n",
        "  drive_mount()"
      ],
      "execution_count": null,
      "outputs": []
    },
    {
      "cell_type": "markdown",
      "metadata": {
        "id": "-I7Puucc-MM0"
      },
      "source": [
        "### Run\n",
        "\n",
        "*In here the connection takes place (and reverse connection parameters are set).*"
      ]
    },
    {
      "cell_type": "code",
      "metadata": {
        "id": "zpEnet2AYJzF",
        "cellView": "form"
      },
      "source": [
        "#@title Set reverse proxy { vertical-output: true }\n",
        "#@markdown *In here we configure a reverse proxy*\n",
        "\n",
        "run = False #@param {type:\"boolean\"}\n",
        "\n",
        "#@markdown #### **Local configuration** (*the machine on this notebook*)\n",
        "#@markdown The user which will open the connection:\n",
        "user = \"user\" #@param {type:\"string\"}\n",
        "#@markdown #### **Remote configuration** (*your computer or a proxy*)\n",
        "remote_user = \"google\" #@param {type:\"string\"}\n",
        "domain = \"extranet.arcipelago.ml\" #@param {type:\"string\"}\n",
        "port = 22 #@param {type:\"integer\"}\n",
        "\n",
        "def create_ssh_config(user=user, remote_user=remote_user, domain=domain, port=port):\n",
        "  config = \"\"\"# Onion support\n",
        "Host *.onion\n",
        "      proxyCommand ncat --proxy 127.0.0.1:9050 --proxy-type socks5 %h %p\n",
        "\n",
        "Host google\n",
        "      HostName {}\n",
        "      Port {}\n",
        "      User {}\n",
        "\n",
        "Host google_shell\n",
        "      Hostname localhost\n",
        "      Port 6666\n",
        "      User user\n",
        "\"\"\".format(domain, port, remote_user)\n",
        "  with open(\"/home/{}/.ssh/config\".format(user), \"w\") as f:\n",
        "    f.write(config)\n",
        "\n",
        "if run:\n",
        "  create_ssh_config()\n"
      ],
      "execution_count": null,
      "outputs": []
    },
    {
      "cell_type": "code",
      "metadata": {
        "id": "27Th63ZO7OfO",
        "cellView": "form"
      },
      "source": [
        "#@title Connect { vertical-output: true }\n",
        "#@markdown If this is your first setup, select *new*:\n",
        "keys = \"existing\" #@param [\"new\", \"existing\"]\n",
        "#@markdown Select this option if you want to enable *root* access.\n",
        "root = True #@param {type:\"boolean\"}\n",
        "#@markdown Specify the user do you want to access to.\n",
        "user = \"user\" #@param {type:\"string\"}\n",
        "#@markdown Enable if you wish to assign an onion address to this machine.\n",
        "tor = True #@param {type:\"boolean\"}\n",
        "#@markdown Enable if you wish to connect to the machine through a reverse proxy (see above).\n",
        "reverse = True #@param {type:\"boolean\"}\n",
        "local = 22 #@param {type:\"integer\"}\n",
        "remote = 6666 #@param {type:\"integer\"}\n",
        "\n",
        "from os import environ\n",
        "environ['user'] = user\n",
        "environ['local_port'] = str(local)\n",
        "environ['remote_port'] = str(remote)\n",
        "\n",
        "install_ssh()\n",
        "new_ssh_dirs()\n",
        "if keys == \"new\":\n",
        "  new_pair(user)\n",
        "  if root:\n",
        "    new_pair(root)\n",
        "  migration_tool(mountpoint=mountpoint, action=\"Export\")\n",
        "if keys == \"existing\":\n",
        "  migration_tool(mountpoint=mountpoint, action='Import')\n",
        "\n",
        "  print(\"\"\"you can connect to\n",
        "   {}@{}\"\"\".format(environ['user'], get_tor_ssh_hostname()))\n",
        "\n",
        "if reverse:\n",
        "  !ssh -tt -o StrictHostKeyChecking=no -F /home/user/.ssh/config -i /home/user/.ssh/id_rsa -R 6666:localhost:22 google 'exit' >/dev/null 2>&1\n",
        "  !autossh -N -M 10984 -o 'PubkeyAuthentication=yes' -o 'PasswordAuthentication=no' -o StrictHostKeyChecking=no -F /home/$user/.ssh/config -i /home/$user/.ssh/id_rsa -f -Y -R $remote_port:localhost:$local_port google\n",
        "  print(\"\"\"if you connected with a reverse proxy, you can to\n",
        "     {}@localhost, port {}\"\"\".format(user, remote))"
      ],
      "execution_count": null,
      "outputs": []
    },
    {
      "cell_type": "markdown",
      "metadata": {
        "id": "yn66M7TlUFEH"
      },
      "source": [
        "### Debug\n",
        "\n",
        "*In here there are functions to discover what's going on while trying to setup availability for remote connections.*"
      ]
    },
    {
      "cell_type": "code",
      "metadata": {
        "id": "47QtXAXrfYI8",
        "cellView": "form"
      },
      "source": [
        "#@title Test SSH connection\n",
        "#@markdown It connects to hostname `google`. \n",
        "start = False #@param {type:\"boolean\"}\n",
        "\n",
        "if start:\n",
        "  !ssh -o StrictHostKeyChecking=no -F /home/user/.ssh/config -i /home/user/.ssh/id_rsa google\n",
        "  # Verboso\n",
        "  # !ssh -i /home/user/.ssh/id_rsa -o StrictHostKeyChecking=no -p 58372 google@extranet.arcipelago.ml"
      ],
      "execution_count": null,
      "outputs": []
    },
    {
      "cell_type": "code",
      "metadata": {
        "id": "KpkK2ZqURjHu",
        "cellView": "form"
      },
      "source": [
        "#@title Test SSH reverse tunnel\n",
        "#@markdown it opens a reverse tunnel to hostname `google`.\n",
        "start = False #@param {type:\"boolean\"}\n",
        "\n",
        "\n",
        "if start:\n",
        "  !ssh -o StrictHostKeyChecking=no -F /home/user/.ssh/config -i /home/user/.ssh/id_rsa -R 6666:localhost:22 google"
      ],
      "execution_count": null,
      "outputs": []
    },
    {
      "cell_type": "code",
      "metadata": {
        "id": "ShO1YKAqsQWA",
        "cellView": "form"
      },
      "source": [
        "#@title Show ssh config\n",
        "#@markdown it shows the ssh configuration file for an user\n",
        "user = \"user\" #@param {type:\"string\"}\n",
        "#@markdown (activate the switch before running it)\n",
        "start = 0 #@param {type:\"slider\", min:0, max:1, step:1}\n",
        "\n",
        "from os import environ\n",
        "\n",
        "environ['user'] = user\n",
        "\n",
        "if start:\n",
        "  if user != \"root\":\n",
        "    !cat /home/$user/.ssh/config\n",
        "  if user == \"root\":\n",
        "    !cat /root/.ssh/config"
      ],
      "execution_count": null,
      "outputs": []
    },
    {
      "cell_type": "code",
      "metadata": {
        "id": "OiyhqLT6X8xJ",
        "cellView": "form"
      },
      "source": [
        "#@title Show SSH directory\n",
        "#@markdown show the content of the `.ssh` directory of an user.\n",
        "\n",
        "user = \"user\" #@param {type:\"string\"}\n",
        "print_tty = False #@param {type:\"boolean\"}\n",
        "start = False #@param {type:\"boolean\"}\n",
        "variable_name = False\n",
        "variable_name = \"\"\n",
        "\n",
        "if start:\n",
        "  if user != \"root\":\n",
        "    !ls -lsh /home/user/.ssh\n",
        "    !du /home/user/.ssh\n",
        "    !stat /home/user/.ssh\n",
        "  if user == \"root\":\n",
        "    !ls -lsh /root/.ssh\n",
        "    !du /root/.ssh\n",
        "    !stat /root/.ssh"
      ],
      "execution_count": null,
      "outputs": []
    },
    {
      "cell_type": "code",
      "metadata": {
        "id": "LzPtF_09o6Vf",
        "cellView": "form"
      },
      "source": [
        "#@title Show `user` known_hosts\n",
        "start = False #@param {type:\"boolean\"}\n",
        "if start:\n",
        "  !cat /home/user/.ssh/known_hosts"
      ],
      "execution_count": null,
      "outputs": []
    },
    {
      "cell_type": "code",
      "metadata": {
        "id": "y2JquB3j0EyJ",
        "cellView": "form"
      },
      "source": [
        "#@title Copy `user` SSH keys on proxy\n",
        "start = False #@param {type:\"boolean\"}\n",
        "\n",
        "if start:\n",
        "  !scp -i /home/user/.ssh/id_rsa -o StrictHostKeyChecking=no -F /home/user/.ssh/config /home/user/.ssh/id_rsa* google:~/.ssh/"
      ],
      "execution_count": null,
      "outputs": []
    },
    {
      "cell_type": "code",
      "metadata": {
        "id": "NvnLWM84YcXX",
        "cellView": "form"
      },
      "source": [
        "#@title Check if /dev/tty exists\n",
        "run = False #@param {type:\"boolean\"}\n",
        "\n",
        "if run:\n",
        "  !ls -la /dev/tty"
      ],
      "execution_count": null,
      "outputs": []
    },
    {
      "cell_type": "code",
      "metadata": {
        "id": "y_9hKWwJWz-3",
        "cellView": "form"
      },
      "source": [
        "#@title Show private key of user `user`\n",
        "run = False #@param {type:\"boolean\"}\n",
        "\n",
        "if run:\n",
        "  !cat /home/user/.ssh/id_rsa"
      ],
      "execution_count": null,
      "outputs": []
    },
    {
      "cell_type": "code",
      "metadata": {
        "id": "UGSm-WlX2D7O",
        "cellView": "form"
      },
      "source": [
        "#@title Setup **tunnel device** (user level)\n",
        "#@markdown Create a tunnel device for user `user`\n",
        "user = \"user\" #@param {type:\"string\"}\n",
        "run = False #@param {type:\"boolean\"}\n",
        "\n",
        "if run:\n",
        "  from os import environ\n",
        "\n",
        "  environ['user'] = user\n",
        "  !ip tuntap add name tun0 mode tun user $user\n",
        "  !ip address add 192.0.2.10/24 dev tun0\n",
        "  !ip link set dev tun0 up"
      ],
      "execution_count": null,
      "outputs": []
    },
    {
      "cell_type": "markdown",
      "metadata": {
        "id": "rGBCRq_Jd50M"
      },
      "source": [
        "## Persistence\n",
        "\n",
        "*In here we find ways for this creature to live, prosper and reproduce*.\n",
        "\n",
        "We have a\n",
        "- simple keep alive (works up to 12 hours)\n",
        "- a simple backup script;"
      ]
    },
    {
      "cell_type": "code",
      "metadata": {
        "id": "UrauaMQp8d1D",
        "cellView": "form"
      },
      "source": [
        "#@title Simple Keep Alive (12 hours) { vertical-output: true }\n",
        "#@markdown *Press this button from the desktop environment to keep this machine alive for 12 hours.*\n",
        "run = False #@param {type:\"boolean\"}\n",
        "user = \"user\" #@param {type:\"string\"}\n",
        "!apt install xdotool xattr > /dev/null 2>&1\n",
        "from time import sleep\n",
        "\n",
        "from os import environ\n",
        "environ['user'] = user\n",
        "\n",
        "if run:\n",
        "  while True:\n",
        "    \"Starting Up and down\"\n",
        "    !runuser -l user -c \"DISPLAY=:1.0 xdotool key 'Up'\"\n",
        "    sleep(10)\n",
        "    !runuser -l user -c \"DISPLAY=:1.0 xdotool key 'Down'\"\n",
        "    sleep(10)"
      ],
      "execution_count": null,
      "outputs": []
    },
    {
      "cell_type": "code",
      "metadata": {
        "id": "qYs26bL-6bhc",
        "cellView": "form"
      },
      "source": [
        "#@title Restore home from files\n",
        "user = \"user\" #@param {type:\"string\"}\n",
        "run = True #@param {type:\"boolean\"}\n",
        "\n",
        "from os import environ\n",
        "\n",
        "environ['user'] = user\n",
        "\n",
        "if run:\n",
        "  !runuser -l $user -c \"cp -r /home/$user/drive/home.tar.gz /home/$user/home.tar.gz\" \n",
        "  !tar -xpzf /home/user/home.tar.gz -C / --numeric-owner\n",
        "  !service cron restart > /dev/null 2>&1\n",
        "  !service rsyslog restart > /dev/null 2>&1\n",
        "  !service ssh restart > /dev/null 2>&1"
      ],
      "execution_count": null,
      "outputs": []
    },
    {
      "cell_type": "code",
      "metadata": {
        "id": "n3acy4VOsKWN",
        "cellView": "form"
      },
      "source": [
        "#@title Backup home, etc to files (`/home/user/drive/`) { vertical-output: true }\n",
        "\n",
        "#@markdown *In here we backup `user`'s home and other funny things.*\n",
        "\n",
        "run  = True #@param {type:\"boolean\"}\n",
        "\n",
        "#@markdown **Manual intervention required**: timer keeps the  cell running.\n",
        "\n",
        "busy  = False\n",
        "\n",
        "\n",
        "user = \"user\" #@param {type:\"string\"}\n",
        "#@markdown Every:\n",
        "minutes = 20 #@param {type:\"integer\"}\n",
        "#@markdown of every\n",
        "hours = 1 #@param {type: \"integer\"}\n",
        "\n",
        "def keep_alive(user=user, hours=hours, minutes=minutes):\n",
        "\n",
        "  from os import environ\n",
        "  environ['user'] = user\n",
        "  from time import sleep\n",
        "\n",
        "  if hours == 0 or minutes == 0:\n",
        "    print(\"values have to be positive\")\n",
        "    return\n",
        "\n",
        "  excluded_paths = [\"/home/{}/drive\".format(user),\n",
        "                    \"/home.tar.gz\",\n",
        "                    \"/etc.tar.gz\",\n",
        "                    \"/home/{}/home.tar.gz\".format(user),\n",
        "                    \"/home/{}/etc.tar.gz\".format(user),\n",
        "                    \"/home/{}/.config/Google\".format(user)]\n",
        "\n",
        "  add_exclude = lambda path: \"--exclude={}\".format(path)\n",
        "\n",
        "  exclude_command = \" \".join([add_exclude(path) for path in excluded_paths])\n",
        "\n",
        "  chown = lambda user, path: \"chown {}:{} {}\".format(user, user, path)\n",
        "  chown_home = chown(user, \"/home.tar.gz\")\n",
        "  chown_etc = chown(user, \"/etc.tar.gz\")\n",
        "\n",
        "  move_home_backup = lambda user: \"runuser -l {} -c 'mv /home.tar.gz /home/{}/drive/home.tar.gz'\".format(user, user)\n",
        "  move_home_user = move_home_backup(user)\n",
        "\n",
        "  move_etc_backup = lambda user: \"runuser -l {} -c 'mv /etc.tar.gz /home/{}/drive/etc.tar.gz\".format(user, user)\n",
        "  move_etc_user = move_etc_backup(user)\n",
        "\n",
        "  backup_home = (\"cd / && tar -cpzf home.tar.gz {} --one-file-system /home/{}\"\n",
        "                 \" > /dev/null 2>&1 && {} && {}\").format(exclude_command, user, chown_home, move_home_user)\n",
        "\n",
        "  backup_etc = (\"cd / && tar -cpzf etc.tar.gz {} --one-file-system /etc\"\n",
        "          \" > /dev/null 2>&1 && {} && {}\").format(exclude_command, chown_etc, move_etc_user)\n",
        "\n",
        "  cron_job = \"\"\"\n",
        "PATH=/usr/sbin:/usr/sbin:/usr/bin:/sbin:/bin\n",
        "\n",
        "# Backup every {} minutes and {}  everyday\n",
        "\n",
        "# Home\n",
        "0-59/{} 0-23/{} * * * root {}\n",
        "\n",
        "# Etc\n",
        "0-59/{} 0-23/{} * * * root  \n",
        "\n",
        "\"\"\".format(minutes, hours, \n",
        "           minutes, hours, backup_home, \n",
        "           minutes, hours, backup_etc)\n",
        "  with open(\"/etc/cron.d/backup\", \"w\") as f:\n",
        "    f.write(cron_job)\n",
        "  !chmod 644 /etc/cron.d/backup\n",
        "  !service cron restart > /dev/null 2>&1\n",
        "  !service rsyslog restart > /dev/null 2>&1\n",
        "\n",
        "def busy_loop(user=user, minutes=minutes, hours=hours):\n",
        "\n",
        "  from os import environ\n",
        "  environ['user'] = user\n",
        "  from time import sleep\n",
        "\n",
        "  while True:\n",
        "   # !runuser -l $user -c \"tar -cpzf home.tar.gz --exclude=/home.tar.gz --one-file-system /home/user &\"i\n",
        "   !date\n",
        "   !echo \"backup started\"\n",
        "   !cd / && tar -cpzf home.tar.gz --exclude=/home.tar.gz --exclude=/etc.tar.gz --one-file-system /home/user > /dev/null 2>&1\n",
        "   !cd / && tar -cpzf etc.tar.gz --exclude=/etc.tar.gz --exclude=/home.tar.gz --one-file-system /etc > /dev/null 2>&1\n",
        "   !chown $user:$user /home.tar.gz /etc.tar.gz\n",
        "\n",
        "   !\n",
        "   !runuser -l $user -c \"cp /etc.tar.gz /home/$user/drive/etc.tar.gz\"\n",
        "   print(\"complete, coming back in {} hours and {} minutes.\".format(hours, minutes))\n",
        "   #!runuser -l $user -c \"tar -cpzf etc.tar.gz --exclude=/etc.tar.gz --one-file-system /etc\"\n",
        "   sleep(hours + 60*minutes)\n",
        "\n",
        "if busy and run:\n",
        "  busy_loop()\n",
        "\n",
        "if not busy and run:\n",
        "  keep_alive()"
      ],
      "execution_count": null,
      "outputs": []
    },
    {
      "cell_type": "markdown",
      "metadata": {
        "id": "SFnaULYNsTXJ"
      },
      "source": [
        "## Graphical environment\n",
        "\n",
        "*In here we install an user-friendly graphical environment to easy advanced tasks and setup a screen sharing program.*\n",
        "\n",
        "**Manual intervention required**: at first boot, to set VNC password at runtime.\n",
        "\n",
        "If you enabled Google Drive integration you will find a link to your drive in your home directory.\n",
        "\n",
        "**XFCE (default)**:\n",
        "- **Best**: 9 mins\n",
        "- **Worst**: 12 mins\n",
        "\n",
        "**MATE**:\n",
        "- **Best**:\n",
        "- **Worst**:  4 mins"
      ]
    },
    {
      "cell_type": "markdown",
      "metadata": {
        "id": "Q92DHyVfhy51"
      },
      "source": [
        "### Routines\n",
        "\n",
        "*In here we provide functions to install and configure TigerVNC and additional tools useful in a desktop.*"
      ]
    },
    {
      "cell_type": "code",
      "metadata": {
        "id": "OVXJ72TF0hXx",
        "cellView": "form"
      },
      "source": [
        "#@title Install and configure TigerVNC { vertical-output: true }\n",
        "#@markdown I chose TigerVNC because it was the easiest to configure.\n",
        "from os import environ\n",
        "run = True #@param {type:\"boolean\"}\n",
        "\n",
        "\n",
        "def setup_vnc():\n",
        "  #@markdown - We install the following packages:\n",
        "  #@markdown `dbus-x11 tigervnc-server-standalone tigervnc-xorg-extension xinit xserver-xorg-video-dummy` `x11-xserver-utils` `xauth`;\n",
        "  !apt --quiet update > /dev/null 2>&1\n",
        "  !apt --quiet install dbus-x11 tigervnc-standalone-server tigervnc-xorg-extension xinit xserver-xorg-video-dummy x11-xserver-utils xauth  > /dev/null 2>&1\n",
        "\n",
        "  #@markdown 1. Setup a simple xorg  video dummy configuration.\n",
        "\n",
        "  #@markdown 2. Create an Xauthority file\n",
        "\n",
        "  #@markdown 3. Create an Xresources file\n",
        "\n",
        "  #@markdown 4. Allow any user to start X\n",
        "\n",
        "  #@markdown 5. Set VNC credentials:\n",
        "  user = \"user\" #@param {type:\"string\"}\n",
        "  password = \"testone\" #@param {type:\"string\"}\n",
        "\n",
        "\n",
        "  # 1\n",
        "  !wget http://xpra.org/xorg.conf > /dev/null 2>&1\n",
        "  !cp xorg.conf /etc/X11\n",
        "\n",
        "  # 2\n",
        "  !runuser -l $user -c 'touch /home/$user/.Xauthority'\n",
        "\n",
        "  # 3\n",
        "  !runuser -l $user -c \"touch /home/$user/.Xresources\"\n",
        "\n",
        "  # 4\n",
        "  xwrapper = \"allowed_users=anybody\"\n",
        "  with open(\"/etc/X11/Xwrapper.config\", 'w') as f:\n",
        "    f.write(xwrapper)\n",
        "\n",
        "  # Set vnc for user\n",
        "  !runuser -l $user -c \"mkdir -p /home/$user/.vnc\"\n",
        "  !runuser -l $user -c \"mkdir -p /home/$user/drive/.vnc\"\n",
        "\n",
        "  # 5\n",
        "  environ['vnc_password'] = password\n",
        "  environ['vnc_password_path'] = \"/home/{}/.vnc/passwd\".format(user)\n",
        "\n",
        "  # Create password\n",
        "  !runuser -l $user -c \"echo $vnc_password | vncpasswd -f > $vnc_password_path\"\n",
        "  # Set config\n",
        "  environ['vnc_config_path'] =  \"/home/{}/.vnc/config\".format(user)\n",
        "\n",
        "  config = \"\"\"session=xfce\n",
        "geometry=1920x1080\n",
        "localhost\n",
        "alwaysshared\"\"\"\n",
        "\n",
        "  with open(environ['vnc_config_path'], \"w\") as f:\n",
        "    f.write(config)\n",
        "\n",
        "  # Permission check\n",
        "  !chown -R $user:$user /home/$user\n",
        "\n",
        "    #!runuser -l $user -c \"echo $vnc_config > $vnc_config_path\" \n",
        "    #!vim $vnc_password_path\n",
        "\n",
        "if run:\n",
        "  setup_vnc()"
      ],
      "execution_count": null,
      "outputs": []
    },
    {
      "cell_type": "code",
      "metadata": {
        "id": "83e_XwbHrpS8",
        "cellView": "form"
      },
      "source": [
        "#@title Install Desktop Environment { vertical-output: true }\n",
        "#@markdown *This lets you install a DE*\n",
        "\n",
        "run = False #@param {type:\"boolean\"}\n",
        "\n",
        "#@markdown What you can choose:\n",
        "DE = \"MATE\" #@param [\"MATE\", \"XFCE\"]\n",
        "\n",
        "def de_install(DE=DE):\n",
        "  if DE == \"MATE\":\n",
        "    !apt --quiet install -y mate > /dev/null 2>&1\n",
        "    session = \"mate-session\"\n",
        "\n",
        "  if DE == \"XFCE\":\n",
        "    !apt --quiet install -y xubuntu-desktop > /dev/null 2>&1\n",
        "    session = \"xfce4-session\"\n",
        "\n",
        "  return session\n",
        "\n",
        "if run:\n",
        "  session = de_install()"
      ],
      "execution_count": null,
      "outputs": []
    },
    {
      "cell_type": "code",
      "metadata": {
        "id": "WrvzDKAWuO3f",
        "cellView": "form"
      },
      "source": [
        "#@title Set VNC Startup file\n",
        "#@markdown *Here we set the VNC startup file*\n",
        "run = False #@param {type:\"boolean\"}\n",
        "\n",
        "#@markdown What session do you want?\n",
        "session = \"mate-session\" #@param {type:\"string\"}\n",
        "\n",
        "def set_vnc_startup_file(user=user, session=session):\n",
        "  from os import environ\n",
        "  environ['user'] = user\n",
        " \n",
        "  # Set VNC startup file\n",
        "  !mkdir -p /home/$user/.vnc\n",
        "  !chown $user:$user /home/$user/.vnc\n",
        "\n",
        "  xstartup = \"\"\"#!/bin/sh\n",
        "unset SESSION_MANAGER\n",
        "unset DBUS_SESSION_BUS_ADDRESS\n",
        "[ -x /etc/vnc/xstartup ] && exec /etc/vnc/xstartup\n",
        "[ -r $HOME/.Xresources ] && xrdb $HOME/.Xresources\n",
        "vncconfig -iconic &\n",
        "/usr/bin/{}\n",
        "\"\"\".format(session)\n",
        "\n",
        "  with open(\"/home/{}/.vnc/xstartup.new\".format(user), \"w\") as f:\n",
        "    f.write(xstartup)\n",
        "\n",
        "  !chown $user:$user /home/$user/.vnc/xstartup.new\n",
        "  !chmod 755 /home/$user/.vnc/xstartup\n",
        "  !runuser -l $user -c \"mv /home/$user/.vnc/xstartup.new /home/$user/.vnc/xstartup\"\n",
        "  !chmod 644 /home/$user/.vnc/xstartup\n",
        "\n",
        "\n",
        "if run:\n",
        "  set_startup_file()"
      ],
      "execution_count": null,
      "outputs": []
    },
    {
      "cell_type": "code",
      "metadata": {
        "id": "Jt0bZjcmYBET",
        "cellView": "form"
      },
      "source": [
        "#@title Install remmina\n",
        "#@markdown *What's a VNC server without a VNC client?*\n",
        "run = True #@param {type:\"boolean\"}\n",
        "\n",
        "if run:\n",
        "  !apt install remmina  > /dev/null 2>&1"
      ],
      "execution_count": null,
      "outputs": []
    },
    {
      "cell_type": "code",
      "metadata": {
        "id": "KWuR9i6JdXHr",
        "cellView": "form"
      },
      "source": [
        "#@title GNOME System Monitor\n",
        "#@markdown *Also Usage*\n",
        "install = True #@param {type:\"boolean\"}\n",
        "\n",
        "if install:\n",
        "  !apt install gnome-system-monitor gnome-usage > /dev/null 2>&1"
      ],
      "execution_count": null,
      "outputs": []
    },
    {
      "cell_type": "code",
      "metadata": {
        "id": "0m5cBmjUf3eC",
        "cellView": "form"
      },
      "source": [
        "#@title Install terminal\n",
        "#@markdown *We install Tilix.*\n",
        "install = True #@param {type:\"boolean\"}\n",
        "\n",
        "if install:\n",
        "  !apt install tilix >/dev/null 2>&1\n",
        "  #!apt install gnome-terminal > /dev/null 2>&1"
      ],
      "execution_count": null,
      "outputs": []
    },
    {
      "cell_type": "code",
      "metadata": {
        "cellView": "form",
        "id": "8UoPNJ_guO57"
      },
      "source": [
        "#@title Install icon set\n",
        "#@markdown *We install Adwaita.*\n",
        "install = True #@param {type:\"boolean\"}\n",
        "\n",
        "if install:\n",
        "  !apt install gnome-icon-theme adwaita-icon-theme file-roller gnome-themes-standard fonts-cantarell $file_manager > /dev/null 2>&1"
      ],
      "execution_count": null,
      "outputs": []
    },
    {
      "cell_type": "code",
      "metadata": {
        "id": "iA0ffBXPGW-P",
        "cellView": "form"
      },
      "source": [
        "#@title Tweak tool { vertical-output: true }\n",
        "#markdown Install GNOME tweak tool\n",
        "#@markdown and `notify-send`\n",
        "!apt install -y gnome-tweak-tool libnotify-bin > /dev/null 2>&1\n",
        "!gtk-update-icon-cache"
      ],
      "execution_count": null,
      "outputs": []
    },
    {
      "cell_type": "code",
      "metadata": {
        "id": "HGFHZk5N2g4S",
        "cellView": "form"
      },
      "source": [
        "#@title Install browser\n",
        "#@markdown You know, surf the web.\n",
        "install = True #@param {type:\"boolean\"}\n",
        "web_browser = \"qutebrowser\" #@param [\"firefox\", \"epiphany-browser\", \"qutebrowser\", \"qutebrowser_pip\", \"epiphany-browser\", \"chromium-browser\"] {allow-input: true}\n",
        "chromium = True #@param {type:\"boolean\"}\n",
        "\n",
        "from os import environ\n",
        "environ['web_browser'] = web_browser\n",
        "\n",
        "if install:\n",
        "  if web_browser == \"qutebrowser_pip\":\n",
        "    !runuser -l $user -c \"python3 -m pip install --user qutebrowser\"\n",
        "    !runuser -l $user -c \"export PATH=/home/$user/.local/bin:$PATH\"\n",
        "  else:\n",
        "    !apt install $web_browser > /dev/null 2>&1\n",
        "  if chromium:\n",
        "    !apt install chromium-browser > /dev/null 2>&1\n"
      ],
      "execution_count": null,
      "outputs": []
    },
    {
      "cell_type": "code",
      "metadata": {
        "id": "BjPuCshxM18U",
        "cellView": "form"
      },
      "source": [
        "#@title Install media player { vertical-output: true }\n",
        "\n",
        "media_player = \"mpv\" #@param [\"mpv\", \"vlc\", \"totem\"] {allow-input: true}\n",
        "run = True #@param {type:\"boolean\"}\n",
        "from os import environ\n",
        "environ['mediaplayer'] = media_player\n",
        "\n",
        "if run:\n",
        "  !apt install $mediaplayer > /dev/null 2>&1\n",
        "  !apt install pavucontrol > /dev/null 2>&1"
      ],
      "execution_count": null,
      "outputs": []
    },
    {
      "cell_type": "code",
      "metadata": {
        "id": "XTRrf38ZPO5M",
        "cellView": "form"
      },
      "source": [
        "#@title Install notes\n",
        "#@markdown *It's tomboy.*\n",
        "run = True #@param {type:\"boolean\"}\n",
        "\n",
        "if run:\n",
        "  !apt install tomboy > /dev/null 2>&1"
      ],
      "execution_count": null,
      "outputs": []
    },
    {
      "cell_type": "code",
      "metadata": {
        "id": "WqprKhNBleqH",
        "cellView": "form"
      },
      "source": [
        "#@title Install wsiwyg text editor { vertical-output: true }\n",
        "editor = \"gedit\" #@param [\"\"] {allow-input: true}\n",
        "run = True #@param {type:\"boolean\"}\n",
        "\n",
        "from os import environ\n",
        "\n",
        "environ['editor'] = editor\n",
        "\n",
        "if run:\n",
        "  !apt install $editor > /dev/null 2>&1"
      ],
      "execution_count": null,
      "outputs": []
    },
    {
      "cell_type": "code",
      "metadata": {
        "id": "j7QRkj83jvkE",
        "cellView": "form"
      },
      "source": [
        "#@title Install File Manager { vertical-output: true }\n",
        "#@markdown *Default choice is nautilus.*\n",
        "run = True #@param {type:\"boolean\"}\n",
        "\n",
        "file_manager = \"nautilus\" #@param [\"nautilus\", \"thunar\", \"dolphin\"] {allow-input: true}\n",
        "\n",
        "from os import environ\n",
        "environ['file_manager'] = file_manager\n",
        "\n",
        "if run:\n",
        "  !apt install $file_manager > /dev/null 2>&1"
      ],
      "execution_count": null,
      "outputs": []
    },
    {
      "cell_type": "code",
      "metadata": {
        "id": "Ib6IrfJ5eaxd",
        "cellView": "form"
      },
      "source": [
        "#@title Colab setup{ vertical-output: true }\n",
        "#@markdown *Get the link for a colab file on google drive and eventually open it on startup.*\n",
        "\n",
        "run = True #@param {type: \"boolean\"}\n",
        "\n",
        "user = \"user\" #@param {type:\"string\"}\n",
        "path = \"/home/user/drive/colab_desktop/gnucolab.ipynb\" #@param {type:\"string\"}\n",
        "\n",
        "#@markdown Enable the following checkbox if you want to open the notebook on session start:\n",
        "\n",
        "autostart = True #@param {type: \"boolean\"}\n",
        "\n",
        "def get_link(user=user, path=path, autostart=autostart):\n",
        "  from os import environ\n",
        "  environ['user'] = user\n",
        "  environ['drive_file_path'] = path\n",
        "\n",
        "  fid = !runuser -l $user -c \"xattr -p 'user.drive.id' $drive_file_path\"\n",
        "\n",
        "  return \"https://colab.research.google.com/drive/{}\".format(fid[0])\n",
        "\n",
        "def autostart_notebook(user=user, link=get_link()):\n",
        "  from os import environ\n",
        "  environ['user'] = user\n",
        "\n",
        "  colab_autostart = \"\"\"[Desktop Entry]\n",
        "Type=Application\n",
        "Name=Colab\n",
        "Exec=sh -c \"sensible-browser {}\"\n",
        "Icon=\n",
        "Comment=Open a predefined notebook at session signin.\n",
        "X-GNOME-Autostart-enabled=true\"\"\".format(link)\n",
        "\n",
        "  !mkdir -p /home/$user/.config/autostart\n",
        "\n",
        "  with open(\"/home/{}/.config/autostart/colab.desktop\".format(user), \"w\") as f:\n",
        "    f.write(colab_autostart)\n",
        "\n",
        "  !chmod +x /home/$user/.config/autostart/colab.desktop\n",
        "  !chown $user:$user /home/$user/.config\n",
        "    \n",
        "if run:\n",
        "  link = get_link()\n",
        "  if autostart:\n",
        "    autostart_notebook()\n"
      ],
      "execution_count": null,
      "outputs": []
    },
    {
      "cell_type": "markdown",
      "metadata": {
        "id": "qT3IOeWu3nTe"
      },
      "source": [
        "### Run\n",
        "\n",
        "*In here we will install DE and run the VNC server.*\n",
        "\n",
        "**Manual intervention required**: on first run you have to input the VNC password.\n",
        "\n",
        "### Connection\n",
        "\n",
        "- VNC;\n",
        "- Anydesk (see inside).\n",
        "\n",
        "VNC connection happens through ssh tunnel, so you have to open one on your machine\n",
        "\n",
        "```console\n",
        "ssh google_shell -L 9901:localhost:5901\n",
        "```\n",
        "\n",
        "and connect with your VNC viewer of choice to your local `9901` port:\n",
        "\n",
        "```console\n",
        " vncviewer localhost:9901\n",
        " ```\n",
        "**Warning:** Increase the port to 5902, 5903, etc in case the VNC server doesn't starts on default display. \n",
        "iIt can happen when you run this notebook with a GPU.\n"
      ]
    },
    {
      "cell_type": "code",
      "metadata": {
        "id": "HiQUCtQS3lPN",
        "cellView": "form"
      },
      "source": [
        "#@title Start VNC server { vertical-output: true }\n",
        "#@markdown *In here we run tigerVNC server*.\n",
        "user = \"user\" #@param {type:\"string\"}\n",
        "password = \"testone\" #@param [\"\\u003Cauth key>\", \"testone\"] {allow-input: true}\n",
        "DE = \"MATE\" #@param [\"MATE\", \"XFCE\"]\n",
        "size = \"800x600\" #@param [\"800x600\", \"1280x720\", \"1920x1080\"] {allow-input: true}\n",
        "\n",
        "from os import environ\n",
        "from os import listdir as ls\n",
        "environ['user'] = user\n",
        "environ['size'] = size\n",
        "environ['display'] = \":1\"\n",
        "environ['vnc_drive_path'] = \"/home/{}/drive/.vnc\".format(user)\n",
        "environ['vncserver_options'] = \"-geometry {} -alwaysshared\".format(size)\n",
        "environ['password_path'] = \"/home/{}/.vnc/passwd\".format(user)\n",
        "environ['xstartup_path'] = \"/home/{}/.vnc/xstartup\".format(user)\n",
        "environ['vncserver'] = \"vncserver\"\n",
        "environ['vncpasswd'] = password\n",
        "\n",
        "# DE Installation\n",
        "session = de_install()\n",
        "\n",
        "# Set VNC startup file\n",
        "set_vnc_startup_file(user, session)\n",
        "\n",
        "# Set VNC password\n",
        "!runuser -l $user -c \"cp -r $password_path '$vnc_drive_path/passwd'\" > /dev/null 2>&1\n",
        "\n",
        "# Restart procedure\n",
        "restart = True #@param {type:\"boolean\"}\n",
        "\n",
        "if restart:\n",
        "  restart = !killall vncserver\n",
        "  restart2 = !killall Xtigervnc\n",
        "\n",
        "# Not used\n",
        "# is_vnc_like_process = lambda line: line.startswith('user') and '/usr/bin/vncserver' \n",
        "\n",
        "# def get_bunch_of_processes(): \n",
        "#   lines = !ps aux | grep vncserver\n",
        "#   return lines\n",
        "\n",
        "# vnc_like_processes = lambda: [line for line in get_bunch_of_processes() if is_vnc_like_process(line)]\n",
        "\n",
        "# if vnc_like_processes():\n",
        "#   print(len(vnc_like_processes()))\n",
        "\n",
        "# Start\n",
        "\n",
        "def run_vnc(user=user, password=password):\n",
        "\n",
        "  # With password file (not working)\n",
        "  if password == \"\\u003Cauth key>\":\n",
        "    !runuser -l $user -c \"vncserver -geometry $size -PasswordFile $password_path -alwaysshared  -dpi 96 -localhost :1 > /dev/null 2>&1 &\"\n",
        "\n",
        "\n",
        "  # With text password prompt\n",
        "  else:\n",
        "    # Try to open tunnel for vNC on reverse proxy machine\n",
        "    !runuser -l $user -c \"ssh google 'autossh -N -M 10984 -o 'PubkeyAuthentication=yes' -o 'PasswordAuthentication=no' -o StrictHostKeyChecking=no -f -Y -R 5901:localhost:9901 google_shell'\"\n",
        " \n",
        "    # Create password if not existing\n",
        "    if not \"passwd\" in ls(\"/home/{}/.vnc\".format(user)):\n",
        "      !runuser -l $user -c \"vncpasswd\"\n",
        "\n",
        "    # Run\n",
        "    !runuser -l $user -c \"vncserver -geometry $size -alwaysshared  -dpi 96 -localhost :1 > /home/$user/vnc.log &\"\n",
        "\n",
        "    # Trying to automatize password insertion:\n",
        "    # !echo -e \"$vncpasswd\\n$vncpasswd\" | vncpasswd -F\"\n",
        "\n",
        "    # Debug (print log)\n",
        "    debug = True #@param {type:\"boolean\"}\n",
        "  \n",
        "    if debug:\n",
        "      from time import sleep\n",
        "      sleep(1)\n",
        "      !runuser -l $user -c \"cat /home/$user/vnc.log\"\n",
        "\n",
        "  #def get_pid(line): return line.split(\" \")[:16][-1]\n",
        "\n",
        "  #from pprint import pprint\n",
        "  #easy_get_column = lambda line, len: pprint([(i, c) for i, c in enumerate(line.split(\" \")[:len])])\n",
        "\n",
        "  #for line in vnc_like_processes():\n",
        "  #  easy_get_column(line, 20)\n",
        "  #print(easy_get_column(line, 20))\n",
        "  #for line in vnc_like_processes():\n",
        "  #  print(line)\n",
        "    #for i, content in easy_get_column(line, 20):\n",
        "      #print(i, content)\n",
        "  #  pid = get_pid(line)\n",
        "  #  print(get_pid(line))\n",
        "  #  environ['pid'] = pid\n",
        "  #  print(pid)\n",
        "  #  !echo $pid\n",
        "  #  !kill -9 $pid\n",
        "\n",
        "   #if vnc_like_processes():\n",
        "    #  print(\"more than one instance open\")\n",
        "    #  print(vnc_like_processes())\n",
        "    #for line in vnc_like_processes():\n",
        "    #  from os import environ\n",
        "    #  environ['pid'] = get_pid(line)\n",
        "    #  !kill $pid\n",
        "  \n",
        "if run:\n",
        "  run_vnc()\n",
        "  "
      ],
      "execution_count": null,
      "outputs": []
    },
    {
      "cell_type": "markdown",
      "metadata": {
        "id": "k0nS6eXm41CT"
      },
      "source": [
        "### Debug\n",
        "\n",
        "*In here we try other DEs, VNC servers or other connection methods.*"
      ]
    },
    {
      "cell_type": "code",
      "metadata": {
        "id": "12wDEVJtTlNs",
        "cellView": "form"
      },
      "source": [
        "#@title Install anydesk\n",
        "#@markdown **Beware**: this program is closed source and *should not* be installed on a production server.\n",
        "run = False #@param {type:\"boolean\"}\n",
        "\n",
        "#@markdown To actually run the program you need to get the key from the UI and then enable the program at the startup.\n",
        "#@markdown.So you need to connect with VNC first and then enable it.\n",
        "\n",
        "if run:\n",
        "  !wget -qO - https://keys.anydesk.com/repos/DEB-GPG-KEY | apt-key add -\n",
        "  !echo \"deb http://deb.anydesk.com/ all main\" > /etc/apt/sources.list.d/anydesk-stable.list > /dev/null 2>&1\n",
        "  !apt update  > /dev/null 2>&1\n",
        "  !apt install anydesk > /dev/null 2>&1\n"
      ],
      "execution_count": null,
      "outputs": []
    },
    {
      "cell_type": "code",
      "metadata": {
        "cellView": "form",
        "id": "ZwNzpTWLkp7O"
      },
      "source": [
        "#@title Install (whole) GNOME { vertical-output: true }\n",
        "#@markdown *You tried it, kid.*\n",
        "from os import environ\n",
        "run = False #@param {type:\"boolean\"}\n",
        "\n",
        "# package = \"gnome\" #@param {type:\"string\"}\n",
        "type = \"minimal\" #@param [\"minimal\", \"full\"] {allow-input: true}\n",
        "environ['package'] = package\n",
        "\n",
        "if type == \"minimal\":\n",
        "  environ['package'] = \"gnome-shell gnome-session\"\n",
        "\n",
        "if type == \"full\":\n",
        "  environ['package'] = \"gnome\"\n",
        "\n",
        "if run:\n",
        "  !apt --quiet update > /dev/null 2>&1\n",
        "  !apt --quiet install $package # > /dev/null 2>&1"
      ],
      "execution_count": null,
      "outputs": []
    },
    {
      "cell_type": "code",
      "metadata": {
        "cellView": "form",
        "id": "iHifXmug4_Y-"
      },
      "source": [
        "#@title Install and configure Vino (incomplete)\n",
        "run = False #@param {type:\"boolean\"}\n",
        "#@markdown *Why not?*\n",
        "\n",
        "if run:\n",
        "  from os import environ\n",
        "\n",
        "  #@markdown * We install `dbus-x11 vino xinit xserver-xorg-video-dummy` `x11-xserver-utils` `xauth`;\n",
        "  !apt --quiet update > /dev/null 2>&1\n",
        "  !apt --quiet install dbus-x11 vino xinit xserver-xorg-video-dummy x11-xserver-utils xauth > /dev/null 2>&1\n",
        "\n",
        "  #@markdown - We set an autostart desktop file for vino (`/home/user/.config/autostart`).\n",
        "  !runuser -l user -c \"mkdir -p ~/.config/autostart\"\n",
        "\n",
        "  vino_autostart = \"\"\"[Desktop Entry]\n",
        "  Type=Application\n",
        "  Name=Vino VNC server\n",
        "  Exec=/usr/lib/vino/vino-server\n",
        "  NoDisplay=true\"\"\"\n",
        "\n",
        "  with open(\"/home/user/.config/autostart/vino-server.desktop\", 'w') as f:\n",
        "    f.write(vino_autostart)\n",
        "\n",
        "  #@markdown - We disable Vino auth prompt\n",
        "  !runuser -l user -c \"dbus-launch gsettings set org.gnome.Vino prompt-enabled false\"\n",
        "\n",
        "  #@markdown We set a VNC password:\n",
        "  password = \"test\" #@param {type:\"string\"}\n",
        "\n",
        "  environ['password'] = password\n",
        "\n",
        "  !runuser -l user -c \"dbus-launch gsettings set org.gnome.Vino vnc-password $(echo -n $password|base64)\"\n"
      ],
      "execution_count": null,
      "outputs": []
    },
    {
      "cell_type": "markdown",
      "metadata": {
        "id": "zNOqKEy1cxln"
      },
      "source": [
        "# Youtube streaming\n",
        "\n",
        "*In here we prepare this worker to be a breeder.*\n",
        "\n",
        "**Manual Intervention required**: Setup the video stream."
      ]
    },
    {
      "cell_type": "markdown",
      "metadata": {
        "id": "DnbcFzArBJmE"
      },
      "source": [
        "## Routines"
      ]
    },
    {
      "cell_type": "code",
      "metadata": {
        "id": "jbp0ZkjQma8l",
        "cellView": "form"
      },
      "source": [
        "#@title Setup tools\n",
        "\n",
        "#@markdown We install\n",
        "\n",
        "#@markdown - OBS studio;\n",
        "!apt install obs-studio > /dev/null 2>&1\n",
        "\n",
        "#@markdown - `pavucontrol`\n",
        "!apt install pavucontrol  > /dev/null 2>&1\n",
        "\n",
        "#@markdown - KDEnlive\n",
        "!apt install kdenlive > /dev/null 2>&1\n",
        "\n",
        "#@markdown - Qbittorrent\n",
        "!apt install qbittorrent > /dev/null 2>&1\n",
        "\n",
        "#@markdown - `youtube-dl`\n",
        "!runuser -l user -c \"python3 -m pip install --user youtube-dl\" > /dev/null 2>&1\n",
        "\n",
        "#@markdown - `pgpgram`\n",
        "!runuser -l user -c \"python3 -m pip install --user pgpgram\" > /dev/null 2>&1\n"
      ],
      "execution_count": null,
      "outputs": []
    },
    {
      "cell_type": "code",
      "metadata": {
        "cellView": "form",
        "id": "C68h6YAIBqIF"
      },
      "source": [
        "#@title Install Pgpgram\n",
        "#@markdown Because this is a partial tutorial.\n",
        "package = \"pgpgram\" #@param {type:\"string\"}\n",
        "method = \"pip\" #@param [\"apt\", \"pip\", \"\"]\n",
        "run = False #@param {type:\"boolean\"}\n",
        "from os import environ\n",
        "\n",
        "if run:\n",
        "  if method == \"apt\":\n",
        "    !apt --quiet update\n",
        "    environ['package'] = package \n",
        "    !apt --quiet install $package\n",
        "  if method == \"pip\":\n",
        "    !runuser -l $user -c \"python3 -m pip install --user $package\""
      ],
      "execution_count": null,
      "outputs": []
    },
    {
      "cell_type": "markdown",
      "metadata": {
        "id": "rpPhZQIadl-x"
      },
      "source": [
        "## [cameradeideputati](https://www.youtube.com/user/cameradeideputati) coi [commenti](https://www.youtube.com/channel/UCvUiqG0_wf1zaGYEuKHr4Sw)\n",
        "\n",
        "*In here we setup a public interest channel.*"
      ]
    },
    {
      "cell_type": "code",
      "metadata": {
        "id": "bhVuflKFJ0D0",
        "cellView": "form"
      },
      "source": [
        "#@title Download a live stream\n",
        "\n",
        "url = \"https://www.youtube.com/watch?v=Cnjs83yowUM\" #@param {type:\"string\"}\n",
        "user = \"user\" #@param {type: \"string\"}\n",
        "# Length of the chunk of the livestream\n",
        "minutes = \"10\" #@param {type:\"string\"}\n",
        "\n",
        "environ['url'] = url\n",
        "environ['user'] = user\n",
        "environ['minutes'] = minutes\n",
        "#!runuser -l user -c \"/home/$user/.local/bin/youtube-dl '$url'\"\n",
        "!runuser -l $user -c \"timeout -s SIGINT '$minutes'm /home/$user/.local/bin/youtube-dl -f 93 '$url' &\""
      ],
      "execution_count": null,
      "outputs": []
    },
    {
      "cell_type": "code",
      "metadata": {
        "id": "QIxTpNgnoPOY",
        "cellView": "form"
      },
      "source": [
        "#@title Stream video\n",
        "url = \"https://www.youtube.com/watch?v=sO70Exy56nE\" #@param {type:\"string\"}\n",
        "file = \"/home/user/baratiri.webm\" #@param {type:\"string\"}\n",
        "key = \"bmts-d5z4-upgw-t23g-efry\" #@param {type:\"string\"}\n",
        "\n",
        "from os import environ\n",
        "environ['url'] = url\n",
        "environ['file'] = file\n",
        "#environ['key'] = key\n",
        "!runuser -l user -c \"youtube-dl $url\"\n",
        "!ffmpeg -re -i $file -c:v libx264 -b:v 2M -c:a copy -strict -2 -flags +global_header -bsf:a aac_adtstoasc -bufsize 2100k -f flv rtmp://a.rtmp.youtube.com/live2/$key"
      ],
      "execution_count": null,
      "outputs": []
    },
    {
      "cell_type": "markdown",
      "metadata": {
        "id": "rWApaKp85eA5"
      },
      "source": [
        "## Leggere i libri in automatico con AWS\n",
        "\n"
      ]
    },
    {
      "cell_type": "code",
      "metadata": {
        "id": "9v1ksjACVu6y",
        "cellView": "both"
      },
      "source": [
        "#@title Sign In\n",
        "\n",
        "!apt install aws-shell > /dev/null 2>&1\n",
        "!pip3 install boto3 > /dev/null 2>&1"
      ],
      "execution_count": null,
      "outputs": []
    },
    {
      "cell_type": "markdown",
      "metadata": {
        "id": "6Ovo04uAX2LX"
      },
      "source": [
        "### Routines"
      ]
    },
    {
      "cell_type": "code",
      "metadata": {
        "id": "sqh2Y1nRlXyw",
        "cellView": "both"
      },
      "source": [
        "#@title Open an epub file\n",
        "#@markdown *This function returns you an Epub `book` object from a file.*\n",
        "\n",
        "run = True #@param {type:\"boolean\"}\n",
        "\n",
        "\n",
        "#@markdown ### File location\n",
        "url = \"\" #@param {type:\"string\"}\n",
        "local = \"/home/user/drive/test.epub\" #@param {type:\"string\"}\n",
        "\n",
        "def open_epub(url=url, local=local):\n",
        "  !apt install python3-ebooklib > /dev/null 2>&1\n",
        "  from os import environ\n",
        "  from os.path import join as path_join \n",
        "  environ['local'] = local\n",
        "  \n",
        "  !chown -R user:user /home/user/.temp.epub\n",
        "  !runuser -l user -c \"cp $local /home/user/.temp.epub\"\n",
        "  !chown -R root:root /home/user/.temp.epub\n",
        "\n",
        "  filename = local.split(\"/\")[-1]\n",
        "\n",
        "  import ebooklib\n",
        "  from ebooklib import epub\n",
        "  if local:\n",
        "    book = epub.read_epub(\"/home/user/.temp.epub\")\n",
        "\n",
        "  if url:\n",
        "    print(\"Not implemented\")\n",
        "    # from requests import get\n",
        "    # get(url).content\n",
        "\n",
        "  if local and url:\n",
        "    print(\"no both methods\")\n",
        "    return False\n",
        "\n",
        "  return book\n"
      ],
      "execution_count": null,
      "outputs": []
    },
    {
      "cell_type": "code",
      "metadata": {
        "id": "VNiXU3EymSxR",
        "cellView": "form"
      },
      "source": [
        "#@title Get chapters from book\n",
        "book =  open_epub()#@param {type:\"raw\"}\n",
        "\n",
        "def get_chapters(book=book):\n",
        "\n",
        "  from ebooklib import ITEM_DOCUMENT\n",
        "\n",
        "  def is_item_document(item): return item.get_type() == ITEM_DOCUMENT\n",
        " \n",
        "  def get_them(book=book): return [i for i in book.get_items() if is_item_document(i)]\n",
        "\n",
        "  return get_them()\n",
        "\n",
        "def get_chapter(book=book, chapter=0): return get_chapters(book=book)[chapter]"
      ],
      "execution_count": null,
      "outputs": []
    },
    {
      "cell_type": "code",
      "metadata": {
        "id": "UYua8MJtOSOg",
        "cellView": "form"
      },
      "source": [
        "#@title Convert HTML object to txt { vertical-output: true }\n",
        "#@markdown It uses *beautiful soup* \n",
        "html =  get_chapter() #@param {type:\"raw\"}\n",
        "\n",
        "blacklist = [   '[document]',   'noscript', 'header',   'html', 'meta', 'head','input', 'script',   ]\n",
        "  # there may be more elements you don't want, such as \"style\", etc.\n",
        "\n",
        "def chap2text(chap=html, blacklist=blacklist):\n",
        "  from bs4 import BeautifulSoup\n",
        "  soup = BeautifulSoup(chap, 'html.parser')\n",
        "  text = soup.find_all(text=True)\n",
        "\n",
        "  def parent_not_in_blacklist(text=text): return t.parent.name not in blacklist\n",
        "\n",
        "  output = ''\n",
        "  def add_to_output(text=text): output += '{} '.format(text)\n",
        "  \n",
        "  def apply_blacklist(text=text): [add_to_output(t) for t in text if parent_not_in_blacklist(t)]\n",
        "\n",
        "  apply_blacklist()\n",
        "  return output\n",
        "\n",
        "  print(chap2text(get_chapter()))\n",
        "  "
      ],
      "execution_count": null,
      "outputs": []
    },
    {
      "cell_type": "code",
      "metadata": {
        "id": "AFaHuXiica28"
      },
      "source": [
        "#@title Get chunk\n",
        "#@markdown *Split document in chunks of size `split`*\n",
        "text = chap2text(get_chapter()) #@param {type:\"raw\"}\n",
        "split =  400 #@param {type:\"integer\"}\n",
        "#@mardown Select a particular chunk\n",
        "chunk = 1 #@param {type:\"integer\"}\n",
        "\n",
        "def get_chunk(document=text, size=split, selection=chunk):\n",
        "  words = document.split(\" \")\n",
        "  if words:\n",
        "    start = (chunk-1)*split\n",
        "    end = chunk*split\n",
        "    try:\n",
        "      return words[start:end]\n",
        "    except Exception as e:\n",
        "      raise e"
      ],
      "execution_count": null,
      "outputs": []
    },
    {
      "cell_type": "code",
      "metadata": {
        "id": "mHgBUWPwns-u"
      },
      "source": [
        "#@title Apply a blacklist\n",
        "blacklist = [\"\\n\"] #@param {type:\"raw\"}\n",
        "words =  get_chunk#@param {type:\"raw\"}\n",
        "\n",
        "def remove(word, a_list): while word in a_list: a_list.remove(word)\n",
        "\n",
        "def remove_all_words(words=blacklist, a_list=a_list): for word in words: remove(word, a_list)\n",
        "\n",
        "cleaned_words = remove_all_words(blacklist, get_chunk())"
      ],
      "execution_count": null,
      "outputs": []
    },
    {
      "cell_type": "code",
      "metadata": {
        "id": "_o7tz8mnbuZ2"
      },
      "source": [
        "#@title Book Visualizer\n",
        "\n",
        "  def visualizer(book, chapter=capitolo, split=split):\n",
        " \n",
        "\n",
        "    for image in book.get_items_of_type(ebooklib.ITEM_IMAGE):\n",
        "      print(image)"
      ],
      "execution_count": null,
      "outputs": []
    },
    {
      "cell_type": "code",
      "metadata": {
        "id": "Jo7Z4VAZ5VW2",
        "cellView": "both"
      },
      "source": [
        "#@title Lettore sintetico di epub { vertical-output: true }\n",
        "\n",
        "#@markdown *In here we read and voice synthetize epub files.*\n",
        "\n",
        "run = True #@param {type:\"boolean\"}\n",
        "\n",
        "\n",
        "#@markdown ### File location\n",
        "url = \"\" #@param {type:\"string\"}\n",
        "local = \"/home/user/drive/test.epub\" #@param {type:\"string\"}\n",
        "\n",
        "#@markdown ## Output\n",
        "\n",
        "#@markdown Se salvare su file, con che estensione?\n",
        "to_file = \"txt\" #@param [\"html\", \"txt\", \"\"] {allow-input: true}\n",
        "\n",
        "# Open file\n",
        "book = open_epub()\n",
        "\n",
        "# Get chapters\n",
        "chapters = get_chapter(book)\n",
        "\n",
        "#@markdown If you want to print a chapter, insert it here: \n",
        "chapter =  0 #@param {type:\"integer\"}\n",
        "\n",
        "split =  400 #@param {type:\"integer\"}\n",
        " chunk = 1 #@param {type:\"integer\"}\n",
        "\n",
        " if chapter >= 0:\n",
        "  chapter = get_chapters(book)[chapter+1]\n",
        "  output = chap2text(chapter)\n",
        "\n",
        "\n",
        "words_blacklist = [\"\\n\"]\n",
        "\n",
        "      for word in words_blacklist:\n",
        "        while word in chunk:\n",
        "          chunk.remove(word)      \n",
        "\n",
        "      from pprint import pprint\n",
        "      pprint(chunk)\n",
        "        \n",
        "\n",
        "\n",
        "  output_path = lambda chapter, extension: \"/root/chapter_{}.{}\".format(chapter, extension)\n",
        "\n",
        "  if to_file == \"html\":\n",
        "    content = chapter\n",
        "    attribute = \"wb\"\n",
        "  if to_file == \"txt\":\n",
        "    attribute = \"w\"\n",
        "    content = chap2text(chapter)\n",
        "\n",
        "  for i, chapter in enumerate(chapters):\n",
        "    with open(output_path(i, to_file), attribute) as f:\n",
        "        f.write(content)\n",
        "\n",
        "  !chown -R user:user /home/user/.temp.epub\n",
        "  return output\n",
        "\n",
        "if run:\n",
        "  aprire_epub()\n",
        "  #print(aprire_epub())\n",
        "  "
      ],
      "execution_count": null,
      "outputs": []
    },
    {
      "cell_type": "markdown",
      "metadata": {
        "id": "PtwXQp19vIgT"
      },
      "source": [
        "# Trivia"
      ]
    },
    {
      "cell_type": "code",
      "metadata": {
        "id": "9n6HzFfVvKyl",
        "cellView": "form"
      },
      "source": [
        "#@title OTP verification\n",
        "key = \"IVJU6NSKKVIVENKMIJLECSSHK5JU4MSMJJJVMVZXLJKEKV2GJZCQ\" #@param {type:\"string\"}\n",
        "\n",
        "from os import environ\n",
        "\n",
        "environ['key'] = key\n",
        "\n",
        "!apt install oathtool > /dev/null 2>&1\n",
        "\n",
        "!oathtool --totp --base32 $key"
      ],
      "execution_count": null,
      "outputs": []
    },
    {
      "cell_type": "markdown",
      "metadata": {
        "id": "KB5R64u9D29A"
      },
      "source": [
        "# Donate\n",
        "\n",
        "This notebook is provided under the **AGPL** license v3 or later.\n",
        "\n",
        "You can donate money to the project through \n",
        "- [Paypal](https://paypal.me/pellegrinoprevete), \n",
        "- DOGE (at this [address](DAVpBtEWkAdZKk5DNbfUn9weKagyfwga9Q))\n",
        "- Ethereum mining (just execute this cell)."
      ]
    }
  ]
}
